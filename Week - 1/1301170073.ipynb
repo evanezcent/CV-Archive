{
  "nbformat": 4,
  "nbformat_minor": 0,
  "metadata": {
    "kernelspec": {
      "display_name": "Python 3",
      "language": "python",
      "name": "python3"
    },
    "language_info": {
      "codemirror_mode": {
        "name": "ipython",
        "version": 3
      },
      "file_extension": ".py",
      "mimetype": "text/x-python",
      "name": "python",
      "nbconvert_exporter": "python",
      "pygments_lexer": "ipython3",
      "version": "3.7.3"
    },
    "colab": {
      "name": "1301170073.ipynb",
      "provenance": [],
      "collapsed_sections": []
    }
  },
  "cells": [
    {
      "cell_type": "markdown",
      "metadata": {
        "id": "T1wo5dIrQUEt",
        "colab_type": "text"
      },
      "source": [
        "![title](https://i.ibb.co/f2W87Fg/logo2020.png)\n",
        "\n",
        "---\n"
      ]
    },
    {
      "cell_type": "markdown",
      "metadata": {
        "id": "WL5Ld4n6QUEx",
        "colab_type": "text"
      },
      "source": [
        "# Python NumPy exercise 2020\n",
        "Complete the following tasks according to the expected ouputs"
      ]
    },
    {
      "cell_type": "markdown",
      "metadata": {
        "id": "2ydhqlaE9I9G",
        "colab_type": "text"
      },
      "source": [
        "---\n",
        "### 1. \n",
        "**Write your Student ID and Name as string, then print the last four digit of your ID**\n",
        "    <pre>`(2 lines ★☆☆)`"
      ]
    },
    {
      "cell_type": "code",
      "metadata": {
        "id": "Dp267Eqk9I9M",
        "colab_type": "code",
        "colab": {
          "base_uri": "https://localhost:8080/",
          "height": 68
        },
        "outputId": "3388ef2b-307d-4518-9e80-e86a589d7a71"
      },
      "source": [
        "ID = '1301170073'\n",
        "name = 'Pratama Yoga Santosa'\n",
        "\n",
        "print('ID           :', ID)\n",
        "print('Name         :', name)\n",
        "print('last 4 digit :', ID[6:])"
      ],
      "execution_count": null,
      "outputs": [
        {
          "output_type": "stream",
          "text": [
            "ID           : 1301170073\n",
            "Name         : Pratama Yoga Santosa\n",
            "last 4 digit : 0073\n"
          ],
          "name": "stdout"
        }
      ]
    },
    {
      "cell_type": "markdown",
      "metadata": {
        "id": "_ibJWQLs9I9Y",
        "colab_type": "text"
      },
      "source": [
        "**Expected Output**:<pre>\n",
        "<i>(assumed ID='1234567890' and name='abcdef')</i>\n",
        "\n",
        "ID           : 1234567890\n",
        "Name         : abcdef\n",
        "last 4 digit : 7890"
      ]
    },
    {
      "cell_type": "markdown",
      "metadata": {
        "id": "eShzc2p79I9c",
        "colab_type": "text"
      },
      "source": [
        "---\n",
        "### 2. \n",
        "**Import the numpy package under the name `np`, then print its version**\n",
        "<pre>(2 lines ★☆☆) "
      ]
    },
    {
      "cell_type": "code",
      "metadata": {
        "id": "-_jNtPEQ9I9e",
        "colab_type": "code",
        "colab": {
          "base_uri": "https://localhost:8080/",
          "height": 35
        },
        "outputId": "db8f126a-07a1-45a8-e39c-bb76aa85653d"
      },
      "source": [
        "import numpy as np\n",
        "np.version.version"
      ],
      "execution_count": null,
      "outputs": [
        {
          "output_type": "execute_result",
          "data": {
            "application/vnd.google.colaboratory.intrinsic+json": {
              "type": "string"
            },
            "text/plain": [
              "'1.18.5'"
            ]
          },
          "metadata": {
            "tags": []
          },
          "execution_count": 2
        }
      ]
    },
    {
      "cell_type": "markdown",
      "metadata": {
        "id": "yoyY8E0T9I9i",
        "colab_type": "text"
      },
      "source": [
        "**Expected Output**:<pre>\n",
        "'1.1x.x'"
      ]
    },
    {
      "cell_type": "markdown",
      "metadata": {
        "id": "dNSrRPv49I9l",
        "colab_type": "text"
      },
      "source": [
        "---\n",
        "### 3. \n",
        "**Create a null (all-zero) matrix of size $4\\ \\times\\ 5$**\n",
        "<pre>(1 line ★☆☆)"
      ]
    },
    {
      "cell_type": "code",
      "metadata": {
        "id": "dyxVVA0u9I9m",
        "colab_type": "code",
        "colab": {
          "base_uri": "https://localhost:8080/",
          "height": 85
        },
        "outputId": "4291d3cb-23ee-418f-8ea0-df2b1d4cd2d8"
      },
      "source": [
        "A = np.zeros(shape=(4,5))\n",
        "print(A)"
      ],
      "execution_count": null,
      "outputs": [
        {
          "output_type": "stream",
          "text": [
            "[[0. 0. 0. 0. 0.]\n",
            " [0. 0. 0. 0. 0.]\n",
            " [0. 0. 0. 0. 0.]\n",
            " [0. 0. 0. 0. 0.]]\n"
          ],
          "name": "stdout"
        }
      ]
    },
    {
      "cell_type": "markdown",
      "metadata": {
        "id": "SLxDVNDZ9I9v",
        "colab_type": "text"
      },
      "source": [
        "**Expected Output**:<pre>\n",
        "[[0. 0. 0. 0. 0.]\n",
        " [0. 0. 0. 0. 0.]\n",
        " [0. 0. 0. 0. 0.]\n",
        " [0. 0. 0. 0. 0.]]\n"
      ]
    },
    {
      "cell_type": "markdown",
      "metadata": {
        "id": "_h5C65_K9I9w",
        "colab_type": "text"
      },
      "source": [
        "---\n",
        "### 4. \n",
        "**Set the third row values of matrix A to be `all 1`**\n",
        "<pre>(2 lines ★☆☆)"
      ]
    },
    {
      "cell_type": "code",
      "metadata": {
        "scrolled": false,
        "id": "1SSIJ3gY9I9x",
        "colab_type": "code",
        "colab": {
          "base_uri": "https://localhost:8080/",
          "height": 85
        },
        "outputId": "5aacb011-0884-4874-a161-27e0cf126e84"
      },
      "source": [
        "A[2, A[2,:] == 0] = 1\n",
        "print(A)"
      ],
      "execution_count": null,
      "outputs": [
        {
          "output_type": "stream",
          "text": [
            "[[0. 0. 0. 0. 0.]\n",
            " [0. 0. 0. 0. 0.]\n",
            " [1. 1. 1. 1. 1.]\n",
            " [0. 0. 0. 0. 0.]]\n"
          ],
          "name": "stdout"
        }
      ]
    },
    {
      "cell_type": "markdown",
      "metadata": {
        "id": "JC4vcL_69I93",
        "colab_type": "text"
      },
      "source": [
        "**Expected Output**:<pre>\n",
        "[[0. 0. 0. 0. 0.]\n",
        " [0. 0. 0. 0. 0.]\n",
        " [1. 1. 1. 1. 1.]\n",
        " [0. 0. 0. 0. 0.]]"
      ]
    },
    {
      "cell_type": "markdown",
      "metadata": {
        "id": "SuQXb6S69I95",
        "colab_type": "text"
      },
      "source": [
        "---\n",
        "### 5. \n",
        "**Create a random matrix with normal distribution of size $3\\ \\times\\ 4$, using seed value = `123`**\n",
        "<pre>(2 lines ★☆☆)"
      ]
    },
    {
      "cell_type": "code",
      "metadata": {
        "scrolled": false,
        "id": "g2jbvhLH9I97",
        "colab_type": "code",
        "colab": {
          "base_uri": "https://localhost:8080/",
          "height": 68
        },
        "outputId": "b8c59146-5e36-47a1-d35f-9dc0c46fc5e2"
      },
      "source": [
        "np.random.seed(123)\n",
        "B = np.random.normal(size = (3, 4))\n",
        "print(B)"
      ],
      "execution_count": null,
      "outputs": [
        {
          "output_type": "stream",
          "text": [
            "[[-1.0856306   0.99734545  0.2829785  -1.50629471]\n",
            " [-0.57860025  1.65143654 -2.42667924 -0.42891263]\n",
            " [ 1.26593626 -0.8667404  -0.67888615 -0.09470897]]\n"
          ],
          "name": "stdout"
        }
      ]
    },
    {
      "cell_type": "markdown",
      "metadata": {
        "id": "cwFEGWx99I9_",
        "colab_type": "text"
      },
      "source": [
        "**Expected Output**:<pre>\n",
        "[[-1.0856306   0.99734545  0.2829785  -1.50629471]\n",
        " [-0.57860025  1.65143654 -2.42667924 -0.42891263]\n",
        " [ 1.26593626 -0.8667404  -0.67888615 -0.09470897]]"
      ]
    },
    {
      "cell_type": "markdown",
      "metadata": {
        "id": "3EnQDJO-9I-B",
        "colab_type": "text"
      },
      "source": [
        "---\n",
        "### 6. \n",
        "**print the size of matrix B, then print matrix B with only `2 significant digits`**\n",
        "<pre>(2 lines ★☆☆)"
      ]
    },
    {
      "cell_type": "code",
      "metadata": {
        "scrolled": false,
        "id": "qqeQmEh99I-B",
        "colab_type": "code",
        "colab": {
          "base_uri": "https://localhost:8080/",
          "height": 85
        },
        "outputId": "29805c36-3d38-461d-e6b0-305a7b289b0d"
      },
      "source": [
        "B = B.round(decimals=2)\n",
        "print('size B =', B.shape)\n",
        "print(B)"
      ],
      "execution_count": null,
      "outputs": [
        {
          "output_type": "stream",
          "text": [
            "size B = (3, 4)\n",
            "[[-1.09  1.    0.28 -1.51]\n",
            " [-0.58  1.65 -2.43 -0.43]\n",
            " [ 1.27 -0.87 -0.68 -0.09]]\n"
          ],
          "name": "stdout"
        }
      ]
    },
    {
      "cell_type": "markdown",
      "metadata": {
        "id": "clpYSuIf9I-H",
        "colab_type": "text"
      },
      "source": [
        "**Expected Output**:<pre>\n",
        "size B = (3, 4)\n",
        "[[-1.09  1.    0.28 -1.51]\n",
        " [-0.58  1.65 -2.43 -0.43]\n",
        " [ 1.27 -0.87 -0.68 -0.09]]\n"
      ]
    },
    {
      "cell_type": "markdown",
      "metadata": {
        "id": "OadNMT4v9I-J",
        "colab_type": "text"
      },
      "source": [
        "---\n",
        "### 7\n",
        "**create a vector with values raging from `15 to 35`**\n",
        "<pre>(1 line ★☆☆)"
      ]
    },
    {
      "cell_type": "code",
      "metadata": {
        "id": "39VQJzYQ9I-M",
        "colab_type": "code",
        "colab": {
          "base_uri": "https://localhost:8080/",
          "height": 34
        },
        "outputId": "8cb06dd8-e86f-4af1-fb9e-c4f138affdfe"
      },
      "source": [
        "C = np.arange(15,36)\n",
        "print(C)"
      ],
      "execution_count": null,
      "outputs": [
        {
          "output_type": "stream",
          "text": [
            "[15 16 17 18 19 20 21 22 23 24 25 26 27 28 29 30 31 32 33 34 35]\n"
          ],
          "name": "stdout"
        }
      ]
    },
    {
      "cell_type": "markdown",
      "metadata": {
        "id": "uH4dI3Ct9I-Q",
        "colab_type": "text"
      },
      "source": [
        "**Expected Output**:\n",
        "<pre>[15 16 17 18 19 20 21 22 23 24 25 26 27 28 29 30 31 32 33 34 35]"
      ]
    },
    {
      "cell_type": "markdown",
      "metadata": {
        "id": "fBt0STSy9I-S",
        "colab_type": "text"
      },
      "source": [
        "---\n",
        "### 8.  \n",
        "**Reverse vector C (first element becomes last)**<pre> (1 line ★☆☆) "
      ]
    },
    {
      "cell_type": "code",
      "metadata": {
        "scrolled": true,
        "id": "WCzx2F7j9I-T",
        "colab_type": "code",
        "colab": {
          "base_uri": "https://localhost:8080/",
          "height": 51
        },
        "outputId": "3341e56d-ee87-47e5-c586-5aede1afe99a"
      },
      "source": [
        "D = np.flip(C)\n",
        "print(C)\n",
        "print(D)"
      ],
      "execution_count": null,
      "outputs": [
        {
          "output_type": "stream",
          "text": [
            "[15 16 17 18 19 20 21 22 23 24 25 26 27 28 29 30 31 32 33 34 35]\n",
            "[35 34 33 32 31 30 29 28 27 26 25 24 23 22 21 20 19 18 17 16 15]\n"
          ],
          "name": "stdout"
        }
      ]
    },
    {
      "cell_type": "markdown",
      "metadata": {
        "id": "L9tHsd9P9I-W",
        "colab_type": "text"
      },
      "source": [
        "**Expected Output**:<pre>\n",
        "[15 16 17 18 19 20 21 22 23 24 25 26 27 28 29 30 31 32 33 34 35]\n",
        "[35 34 33 32 31 30 29 28 27 26 25 24 23 22 21 20 19 18 17 16 15]\n",
        "\n"
      ]
    },
    {
      "cell_type": "markdown",
      "metadata": {
        "id": "aBApY4rY9I-Y",
        "colab_type": "text"
      },
      "source": [
        "---\n",
        "### 9. \n",
        "**Create a $4\\ \\times\\ 3$ matrix with values ranging from 0 to 11**<pre> (1 line ★☆☆) \n"
      ]
    },
    {
      "cell_type": "code",
      "metadata": {
        "id": "qbkMzmCz9I-Z",
        "colab_type": "code",
        "colab": {
          "base_uri": "https://localhost:8080/",
          "height": 85
        },
        "outputId": "1cc7e90d-b3d5-4b51-b476-206bd84c6e27"
      },
      "source": [
        "E = np.arange(0, 12).reshape(4,3)\n",
        "print(E)"
      ],
      "execution_count": null,
      "outputs": [
        {
          "output_type": "stream",
          "text": [
            "[[ 0  1  2]\n",
            " [ 3  4  5]\n",
            " [ 6  7  8]\n",
            " [ 9 10 11]]\n"
          ],
          "name": "stdout"
        }
      ]
    },
    {
      "cell_type": "markdown",
      "metadata": {
        "id": "dfzxf3in9I-e",
        "colab_type": "text"
      },
      "source": [
        "**Expected Output**:<pre>\n",
        "[[ 0  1  2]\n",
        " [ 3  4  5]\n",
        " [ 6  7  8]\n",
        " [ 9 10 11]]"
      ]
    },
    {
      "cell_type": "markdown",
      "metadata": {
        "id": "CL6Oxq1Q9I-g",
        "colab_type": "text"
      },
      "source": [
        "---\n",
        "### 10. \n",
        "**Find the indices of non-zero elements from the given matrix**<pre> (1 line ★☆☆) "
      ]
    },
    {
      "cell_type": "code",
      "metadata": {
        "id": "ldX8L0Lj9I-j",
        "colab_type": "code",
        "colab": {
          "base_uri": "https://localhost:8080/",
          "height": 34
        },
        "outputId": "e853393f-728b-4d88-d648-df3c04f61c33"
      },
      "source": [
        "F = [1,2,0,0,4,0,0,7]\n",
        "idF = np.nonzero(F)\n",
        "print(idF[0])"
      ],
      "execution_count": null,
      "outputs": [
        {
          "output_type": "stream",
          "text": [
            "[0 1 4 7]\n"
          ],
          "name": "stdout"
        }
      ]
    },
    {
      "cell_type": "markdown",
      "metadata": {
        "id": "k_j7liAA9I-p",
        "colab_type": "text"
      },
      "source": [
        "**Expected Output**:<pre>[0 1 4 7]"
      ]
    },
    {
      "cell_type": "markdown",
      "metadata": {
        "id": "X4MrWIXH9I-p",
        "colab_type": "text"
      },
      "source": [
        "---\n",
        "### 11.\n",
        "**Create a $4\\ \\times\\ 4$ identity matrix**<pre> (1 line ★☆☆) "
      ]
    },
    {
      "cell_type": "code",
      "metadata": {
        "id": "UIbhwrMm9I-r",
        "colab_type": "code",
        "colab": {
          "base_uri": "https://localhost:8080/",
          "height": 85
        },
        "outputId": "5392cbb0-96e5-49a9-d133-adb73d5c451a"
      },
      "source": [
        "G = np.identity(4)\n",
        "print(G)"
      ],
      "execution_count": null,
      "outputs": [
        {
          "output_type": "stream",
          "text": [
            "[[1. 0. 0. 0.]\n",
            " [0. 1. 0. 0.]\n",
            " [0. 0. 1. 0.]\n",
            " [0. 0. 0. 1.]]\n"
          ],
          "name": "stdout"
        }
      ]
    },
    {
      "cell_type": "markdown",
      "metadata": {
        "id": "WmK-kDpm9I-x",
        "colab_type": "text"
      },
      "source": [
        "**Expected Output**:<pre>[[1. 0. 0. 0.]\n",
        " [0. 1. 0. 0.]\n",
        " [0. 0. 1. 0.]\n",
        " [0. 0. 0. 1.]]"
      ]
    },
    {
      "cell_type": "markdown",
      "metadata": {
        "id": "aR6Vrbqb9I-y",
        "colab_type": "text"
      },
      "source": [
        "---\n",
        "### 12. \n",
        "**Create a $3\\ \\times\\ 2\\ \\times\\ 3$ array of random values with uniform distribution and seed value = 123**<pre> (2 lines ★☆☆) "
      ]
    },
    {
      "cell_type": "code",
      "metadata": {
        "id": "1KVZ2z6X9I-0",
        "colab_type": "code",
        "colab": {
          "base_uri": "https://localhost:8080/",
          "height": 153
        },
        "outputId": "1e735f3a-7a7f-49cd-86d3-28b17021be49"
      },
      "source": [
        "np.random.seed(123)\n",
        "H = np.random.uniform(size = (3, 2, 3)).round(decimals=2)\n",
        "print(H)"
      ],
      "execution_count": null,
      "outputs": [
        {
          "output_type": "stream",
          "text": [
            "[[[0.7  0.29 0.23]\n",
            "  [0.55 0.72 0.42]]\n",
            "\n",
            " [[0.98 0.68 0.48]\n",
            "  [0.39 0.34 0.73]]\n",
            "\n",
            " [[0.44 0.06 0.4 ]\n",
            "  [0.74 0.18 0.18]]]\n"
          ],
          "name": "stdout"
        }
      ]
    },
    {
      "cell_type": "markdown",
      "metadata": {
        "id": "kROYkKUc9I-2",
        "colab_type": "text"
      },
      "source": [
        "**Expected Output**:\n",
        "<pre>\n",
        "[[[0.7  0.29 0.23]\n",
        "  [0.55 0.72 0.42]]\n",
        "\n",
        " [[0.98 0.68 0.48]\n",
        "  [0.39 0.34 0.73]]\n",
        "\n",
        " [[0.44 0.06 0.4 ]\n",
        "  [0.74 0.18 0.18]]]"
      ]
    },
    {
      "cell_type": "markdown",
      "metadata": {
        "id": "KmeUNhHa9I-5",
        "colab_type": "text"
      },
      "source": [
        "---\n",
        "### 13.\n",
        "**Find the minimum and maximum values of matrix (H)**<pre> (2 lines ★☆☆) "
      ]
    },
    {
      "cell_type": "code",
      "metadata": {
        "id": "Tgn_-Xna9I-7",
        "colab_type": "code",
        "colab": {
          "base_uri": "https://localhost:8080/",
          "height": 34
        },
        "outputId": "840b950e-7942-46a8-cb48-67136a14546c"
      },
      "source": [
        "Hmin = np.amin(H)\n",
        "Hmax = np.amax(H)\n",
        "print(Hmin, Hmax)"
      ],
      "execution_count": null,
      "outputs": [
        {
          "output_type": "stream",
          "text": [
            "0.06 0.98\n"
          ],
          "name": "stdout"
        }
      ]
    },
    {
      "cell_type": "markdown",
      "metadata": {
        "id": "Rnvg8lmv9I--",
        "colab_type": "text"
      },
      "source": [
        "**Expected Output**:<pre>0.05967789660956835 0.9807641983846155\n"
      ]
    },
    {
      "cell_type": "markdown",
      "metadata": {
        "id": "jNcIzLZ89I-_",
        "colab_type": "text"
      },
      "source": [
        "---\n",
        "### 14. \n",
        "**Create a random vector of size 50 and find the mean value**<pre> (2 lines ★☆☆) "
      ]
    },
    {
      "cell_type": "code",
      "metadata": {
        "id": "_DIr2eMP9I_A",
        "colab_type": "code",
        "colab": {
          "base_uri": "https://localhost:8080/",
          "height": 34
        },
        "outputId": "0faeeb04-fe5c-4d77-b1ba-9995dfb6482a"
      },
      "source": [
        "np.random.seed(123)\n",
        "I = np.random.random(50)\n",
        "mI = np.mean(I)\n",
        "print(mI)"
      ],
      "execution_count": null,
      "outputs": [
        {
          "output_type": "stream",
          "text": [
            "0.5018578670875471\n"
          ],
          "name": "stdout"
        }
      ]
    },
    {
      "cell_type": "markdown",
      "metadata": {
        "id": "baixpZMo9I_E",
        "colab_type": "text"
      },
      "source": [
        "**Expected Output**:<pre>0.5018578670875471\n",
        "\n"
      ]
    },
    {
      "cell_type": "markdown",
      "metadata": {
        "id": "cpzLj18J9I_F",
        "colab_type": "text"
      },
      "source": [
        "---\n",
        "### 15. \n",
        "**Create a $5 \\times 5 $ array with all values = 1** <pre>(1 line ★☆☆) "
      ]
    },
    {
      "cell_type": "code",
      "metadata": {
        "id": "5r535QP09I_G",
        "colab_type": "code",
        "colab": {
          "base_uri": "https://localhost:8080/",
          "height": 102
        },
        "outputId": "f3ac782c-96f7-4a56-daf8-94fb9c6223f4"
      },
      "source": [
        "J = np.ones((5,5))\n",
        "print(J)"
      ],
      "execution_count": null,
      "outputs": [
        {
          "output_type": "stream",
          "text": [
            "[[1. 1. 1. 1. 1.]\n",
            " [1. 1. 1. 1. 1.]\n",
            " [1. 1. 1. 1. 1.]\n",
            " [1. 1. 1. 1. 1.]\n",
            " [1. 1. 1. 1. 1.]]\n"
          ],
          "name": "stdout"
        }
      ]
    },
    {
      "cell_type": "markdown",
      "metadata": {
        "id": "vOH1AeM29I_J",
        "colab_type": "text"
      },
      "source": [
        "**Expected Output**:<pre>[[1. 1. 1. 1. 1.]\n",
        " [1. 1. 1. 1. 1.]\n",
        " [1. 1. 1. 1. 1.]\n",
        " [1. 1. 1. 1. 1.]\n",
        " [1. 1. 1. 1. 1.]]"
      ]
    },
    {
      "cell_type": "markdown",
      "metadata": {
        "id": "7iPfNNdd9I_J",
        "colab_type": "text"
      },
      "source": [
        "---\n",
        "### 16. \n",
        "**Set matrix J so that the value in `3rd to 4th` row, from `2nd to 4th` column, are all 0** <pre>(1 line ★☆☆) \n"
      ]
    },
    {
      "cell_type": "code",
      "metadata": {
        "id": "BCRdACqD9I_K",
        "colab_type": "code",
        "colab": {
          "base_uri": "https://localhost:8080/",
          "height": 102
        },
        "outputId": "da1f58eb-dcac-4f94-a797-2f6cf226a7c0"
      },
      "source": [
        "J[2:4, 1:4] = 0\n",
        "print(J)"
      ],
      "execution_count": null,
      "outputs": [
        {
          "output_type": "stream",
          "text": [
            "[[1. 1. 1. 1. 1.]\n",
            " [1. 1. 1. 1. 1.]\n",
            " [1. 0. 0. 0. 1.]\n",
            " [1. 0. 0. 0. 1.]\n",
            " [1. 1. 1. 1. 1.]]\n"
          ],
          "name": "stdout"
        }
      ]
    },
    {
      "cell_type": "markdown",
      "metadata": {
        "id": "4Aww-etZ9I_N",
        "colab_type": "text"
      },
      "source": [
        "**Expected Output**:<pre>\n",
        "[[1. 1. 1. 1. 1.]\n",
        " [1. 1. 1. 1. 1.]\n",
        " [1. 0. 0. 0. 1.]\n",
        " [1. 0. 0. 0. 1.]\n",
        " [1. 1. 1. 1. 1.]]"
      ]
    },
    {
      "cell_type": "markdown",
      "metadata": {
        "id": "n7IIUWtk9I_O",
        "colab_type": "text"
      },
      "source": [
        "---\n",
        "### 17. \n",
        "**Create a $4\\ \\times\\ 4$ Random Integer matrix in range `[0..9]`, then add a zero padding border (filled with 0's) around it**<pre> (2 lines ★★☆) "
      ]
    },
    {
      "cell_type": "code",
      "metadata": {
        "id": "Crn8A7hm9I_P",
        "colab_type": "code",
        "colab": {
          "base_uri": "https://localhost:8080/",
          "height": 119
        },
        "outputId": "dd743c33-a1c8-43c0-98e9-dda5d5266e57"
      },
      "source": [
        "np.random.seed(12)\n",
        "K = np.random.randint(0,9, size=(4,4))\n",
        "K = np.pad(K, pad_width=1, mode='constant', constant_values=0)\n",
        "print(K)"
      ],
      "execution_count": null,
      "outputs": [
        {
          "output_type": "stream",
          "text": [
            "[[0 0 0 0 0 0]\n",
            " [0 6 1 2 3 0]\n",
            " [0 3 0 6 1 0]\n",
            " [0 4 5 2 6 0]\n",
            " [0 0 5 8 2 0]\n",
            " [0 0 0 0 0 0]]\n"
          ],
          "name": "stdout"
        }
      ]
    },
    {
      "cell_type": "markdown",
      "metadata": {
        "id": "NX-YRKX09I_U",
        "colab_type": "text"
      },
      "source": [
        "**Expected Output**:<pre>\n",
        "[[0 0 0 0 0 0]\n",
        " [0 6 1 2 3 0]\n",
        " [0 3 0 6 1 0]\n",
        " [0 4 5 2 6 0]\n",
        " [0 0 5 8 2 0]\n",
        " [0 0 0 0 0 0]]\n"
      ]
    },
    {
      "cell_type": "markdown",
      "metadata": {
        "id": "B1W1kjyK9I_U",
        "colab_type": "text"
      },
      "source": [
        "---\n",
        "### 18. \n",
        "**Create a $6\\ \\times\\ 6$ matrix with values `0,1,2,3,4,5` on the diagonal** <pre>(1 line ★☆☆) "
      ]
    },
    {
      "cell_type": "code",
      "metadata": {
        "id": "V3j7xv9v9I_V",
        "colab_type": "code",
        "colab": {
          "base_uri": "https://localhost:8080/",
          "height": 119
        },
        "outputId": "76d51649-77ba-4641-b91b-0117dcd242f5"
      },
      "source": [
        "L = np.diag([0, 1, 2, 3, 4, 5])\n",
        "print(L)"
      ],
      "execution_count": null,
      "outputs": [
        {
          "output_type": "stream",
          "text": [
            "[[0 0 0 0 0 0]\n",
            " [0 1 0 0 0 0]\n",
            " [0 0 2 0 0 0]\n",
            " [0 0 0 3 0 0]\n",
            " [0 0 0 0 4 0]\n",
            " [0 0 0 0 0 5]]\n"
          ],
          "name": "stdout"
        }
      ]
    },
    {
      "cell_type": "markdown",
      "metadata": {
        "id": "u2dot9ET9I_X",
        "colab_type": "text"
      },
      "source": [
        "**Expected Output**:<pre>[[0 0 0 0 0 0]\n",
        " [0 1 0 0 0 0]\n",
        " [0 0 2 0 0 0]\n",
        " [0 0 0 3 0 0]\n",
        " [0 0 0 0 4 0]\n",
        " [0 0 0 0 0 5]]\n"
      ]
    },
    {
      "cell_type": "markdown",
      "metadata": {
        "id": "PqqlY5q99I_Y",
        "colab_type": "text"
      },
      "source": [
        "---\n",
        "### 19. \n",
        "**Create a $7\\ \\times\\ 7$ matrix with values `1,2,3,4,5,6` just `BELOW` the diagonal** <pre>(1 line ★☆☆) "
      ]
    },
    {
      "cell_type": "code",
      "metadata": {
        "id": "GHqYnWjH9I_Z",
        "colab_type": "code",
        "colab": {
          "base_uri": "https://localhost:8080/",
          "height": 119
        },
        "outputId": "1945d7be-885b-4ac4-fc9c-5223a370fc05"
      },
      "source": [
        "M = np.diag([1, 2, 3, 4, 5], -1)\n",
        "print(M)"
      ],
      "execution_count": null,
      "outputs": [
        {
          "output_type": "stream",
          "text": [
            "[[0 0 0 0 0 0]\n",
            " [1 0 0 0 0 0]\n",
            " [0 2 0 0 0 0]\n",
            " [0 0 3 0 0 0]\n",
            " [0 0 0 4 0 0]\n",
            " [0 0 0 0 5 0]]\n"
          ],
          "name": "stdout"
        }
      ]
    },
    {
      "cell_type": "markdown",
      "metadata": {
        "id": "be_61xbE9I_b",
        "colab_type": "text"
      },
      "source": [
        "**Expected Output**:<pre>[[0 0 0 0 0 0 0]\n",
        " [1 0 0 0 0 0 0]\n",
        " [0 2 0 0 0 0 0]\n",
        " [0 0 3 0 0 0 0]\n",
        " [0 0 0 4 0 0 0]\n",
        " [0 0 0 0 5 0 0]\n",
        " [0 0 0 0 0 6 0]]\n"
      ]
    },
    {
      "cell_type": "markdown",
      "metadata": {
        "id": "us176xNM9I_b",
        "colab_type": "text"
      },
      "source": [
        "---\n",
        "### 20. \n",
        "**Create a $6\\ \\times\\ 6$ matrix and fill it with a checkerboard pattern `WITHOUT` helper function** <pre>(3 lines ★★☆) "
      ]
    },
    {
      "cell_type": "code",
      "metadata": {
        "id": "8FRUk9qc9I_c",
        "colab_type": "code",
        "colab": {
          "base_uri": "https://localhost:8080/",
          "height": 119
        },
        "outputId": "0ea94c4d-9260-442f-8c1e-1214d81a25a0"
      },
      "source": [
        "N = np.zeros((6,6),dtype=int)  # use dtype=int\n",
        "N[1::2,::2] = 1\n",
        "N[::2,1::2] = 1\n",
        "print(N)"
      ],
      "execution_count": null,
      "outputs": [
        {
          "output_type": "stream",
          "text": [
            "[[0 1 0 1 0 1]\n",
            " [1 0 1 0 1 0]\n",
            " [0 1 0 1 0 1]\n",
            " [1 0 1 0 1 0]\n",
            " [0 1 0 1 0 1]\n",
            " [1 0 1 0 1 0]]\n"
          ],
          "name": "stdout"
        }
      ]
    },
    {
      "cell_type": "markdown",
      "metadata": {
        "id": "SfemCb6k9I_f",
        "colab_type": "text"
      },
      "source": [
        "**Expected Output**:<pre>[[0 1 0 1 0 1]\n",
        " [1 0 1 0 1 0]\n",
        " [0 1 0 1 0 1]\n",
        " [1 0 1 0 1 0]\n",
        " [0 1 0 1 0 1]\n",
        " [1 0 1 0 1 0]]\n"
      ]
    },
    {
      "cell_type": "markdown",
      "metadata": {
        "id": "0S3bfFad9I_g",
        "colab_type": "text"
      },
      "source": [
        "---\n",
        "### 21. \n",
        "**Create a checkerboard $6\\ \\times\\ 6$ matrix using the `tile` function**<pre> (1 line ★☆☆)"
      ]
    },
    {
      "cell_type": "code",
      "metadata": {
        "id": "etOt73ZQ9I_h",
        "colab_type": "code",
        "colab": {
          "base_uri": "https://localhost:8080/",
          "height": 119
        },
        "outputId": "eba5bcb4-3af4-419c-c080-ce0ca095452f"
      },
      "source": [
        "O = np.tile(np.array([[0,1],[1,0]]), (3,3))\n",
        "print(O)"
      ],
      "execution_count": null,
      "outputs": [
        {
          "output_type": "stream",
          "text": [
            "[[0 1 0 1 0 1]\n",
            " [1 0 1 0 1 0]\n",
            " [0 1 0 1 0 1]\n",
            " [1 0 1 0 1 0]\n",
            " [0 1 0 1 0 1]\n",
            " [1 0 1 0 1 0]]\n"
          ],
          "name": "stdout"
        }
      ]
    },
    {
      "cell_type": "markdown",
      "metadata": {
        "id": "if48DNuk9I_j",
        "colab_type": "text"
      },
      "source": [
        "**Expected Output**:<pre>[[0 1 0 1 0 1]\n",
        " [1 0 1 0 1 0]\n",
        " [0 1 0 1 0 1]\n",
        " [1 0 1 0 1 0]\n",
        " [0 1 0 1 0 1]\n",
        " [1 0 1 0 1 0]]\n"
      ]
    },
    {
      "cell_type": "markdown",
      "metadata": {
        "id": "vQr1-oaH9I_j",
        "colab_type": "text"
      },
      "source": [
        "---\n",
        "### 22. \n",
        "<strike>**Create a 3 x 4 random uniform matrix, then normalize the values to range [0-1]**</strike> <font color=\"red\">[updated 11-09-20]</font><br>\n",
        "**Create a $3\\ \\times\\ 2$ random uniform matrix, then normalize the values to range [0-1]**<pre> (2 lines ★★☆) \n",
        "\n"
      ]
    },
    {
      "cell_type": "code",
      "metadata": {
        "id": "99CXAkPK9I_j",
        "colab_type": "code",
        "colab": {
          "base_uri": "https://localhost:8080/",
          "height": 170
        },
        "outputId": "7978e1d2-7bbe-4532-8748-20912085fa96"
      },
      "source": [
        "np.random.seed(25)\n",
        "P = np.random.rand(3,2).round(decimals=2)\n",
        "print('before')\n",
        "print(P,'\\n')\n",
        "\n",
        "Pmax, Pmin = P.max(), P.min()\n",
        "P = (P-Pmin)/(Pmax-Pmin)\n",
        "print('after')\n",
        "print(P.round(decimals=2))"
      ],
      "execution_count": null,
      "outputs": [
        {
          "output_type": "stream",
          "text": [
            "before\n",
            "[[0.87 0.58]\n",
            " [0.28 0.19]\n",
            " [0.41 0.12]] \n",
            "\n",
            "after\n",
            "[[1.   0.61]\n",
            " [0.21 0.09]\n",
            " [0.39 0.  ]]\n"
          ],
          "name": "stdout"
        }
      ]
    },
    {
      "cell_type": "markdown",
      "metadata": {
        "id": "WRbcnWzk9I_m",
        "colab_type": "text"
      },
      "source": [
        "**Expected Output**:<pre>before\n",
        "[[0.87 0.58]\n",
        " [0.28 0.19]\n",
        " [0.41 0.12]] \n",
        "<br>after\n",
        "[[1.   0.62]\n",
        " [0.21 0.09]\n",
        " [0.39 0.  ]]\n",
        "\n"
      ]
    },
    {
      "cell_type": "markdown",
      "metadata": {
        "id": "xTD3fbs09I_n",
        "colab_type": "text"
      },
      "source": [
        "---\n",
        "### 23. \n",
        "**Multiply matrix `E` by matrix `P` (dot product)**<pre> (1 line ★☆☆)"
      ]
    },
    {
      "cell_type": "code",
      "metadata": {
        "id": "_VCQL_fh9I_n",
        "colab_type": "code",
        "colab": {
          "base_uri": "https://localhost:8080/",
          "height": 85
        },
        "outputId": "6e1c8e7e-2e16-406f-8182-80b89af882cf"
      },
      "source": [
        "Q = np.dot(E,P).round(decimals=2)\n",
        "print(Q)"
      ],
      "execution_count": null,
      "outputs": [
        {
          "output_type": "stream",
          "text": [
            "[[ 0.99  0.09]\n",
            " [ 5.79  2.21]\n",
            " [10.59  4.33]\n",
            " [15.39  6.45]]\n"
          ],
          "name": "stdout"
        }
      ]
    },
    {
      "cell_type": "markdown",
      "metadata": {
        "id": "QWNGAHn29I_p",
        "colab_type": "text"
      },
      "source": [
        "**Expected Output**:<pre>[[ 0.99  0.09]\n",
        " [ 5.81  2.22]\n",
        " [10.62  4.34]\n",
        " [15.44  6.47]]\n"
      ]
    },
    {
      "cell_type": "markdown",
      "metadata": {
        "id": "dsVvYTUH9I_q",
        "colab_type": "text"
      },
      "source": [
        "---\n",
        "### 24. \n",
        "**Given a 1D array, negate all elements which are `between -4 and 4`, in place.** \n",
        "<br>(switch positive/negative sign)<pre> (1 line ★☆☆)"
      ]
    },
    {
      "cell_type": "code",
      "metadata": {
        "id": "rA6TkYRC9I_q",
        "colab_type": "code",
        "colab": {
          "base_uri": "https://localhost:8080/",
          "height": 102
        },
        "outputId": "dd90db1b-12d6-46c7-9208-150d1e621c76"
      },
      "source": [
        "R = np.arange(-8,9)\n",
        "print('before')\n",
        "print(R,'\\n')\n",
        "\n",
        "R[3:12] = [-x for x in R[3:12]]\n",
        "print('after')\n",
        "print(R)"
      ],
      "execution_count": null,
      "outputs": [
        {
          "output_type": "stream",
          "text": [
            "before\n",
            "[-8 -7 -6 -5 -4 -3 -2 -1  0  1  2  3  4  5  6  7  8] \n",
            "\n",
            "after\n",
            "[-8 -7 -6  5  4  3  2  1  0 -1 -2 -3  4  5  6  7  8]\n"
          ],
          "name": "stdout"
        }
      ]
    },
    {
      "cell_type": "markdown",
      "metadata": {
        "id": "QZQFhzpS9I_r",
        "colab_type": "text"
      },
      "source": [
        "**Expected Output**:\n",
        "<pre>before\n",
        "[-8 -7 -6 -5 -4 -3 -2 -1  0  1  2  3  4  5  6  7  8] \n",
        "<br>after\n",
        "<strike>[-8 -7 -6 -5 -4  3  2  1  0 -1 -2  3  4  5  6  7  8]</strike><font color=\"red\"> [updated 11-09-20]</font>\n",
        "[-8 -7 -6 -5 -4  3  2  1  0 -1 -2 -3  4  5  6  7  8]\n"
      ]
    },
    {
      "cell_type": "markdown",
      "metadata": {
        "id": "E2oqd7VX9I_t",
        "colab_type": "text"
      },
      "source": [
        "---\n",
        "### 25. \n",
        "**Get common values between two given arrays**<br>\n",
        "(number appears in both arrays)<pre> (1 line ★☆☆) "
      ]
    },
    {
      "cell_type": "code",
      "metadata": {
        "id": "ekOSN-_a9I_v",
        "colab_type": "code",
        "colab": {
          "base_uri": "https://localhost:8080/",
          "height": 102
        },
        "outputId": "1d0b8aa2-d2e8-47a6-8238-b81451e746bc"
      },
      "source": [
        "np.random.seed(3)\n",
        "S1 = np.random.randint(0,10,10)\n",
        "print('S1=', S1,'\\n')\n",
        "\n",
        "np.random.seed(5)\n",
        "S2 = np.random.randint(0,10,10)\n",
        "print('S2=', S2,'\\n')\n",
        "\n",
        "S = np.intersect1d(S1, S2)\n",
        "print('S =', S)"
      ],
      "execution_count": null,
      "outputs": [
        {
          "output_type": "stream",
          "text": [
            "S1= [8 9 3 8 8 0 5 3 9 9] \n",
            "\n",
            "S2= [3 6 6 0 9 8 4 7 0 0] \n",
            "\n",
            "S = [0 3 8 9]\n"
          ],
          "name": "stdout"
        }
      ]
    },
    {
      "cell_type": "markdown",
      "metadata": {
        "id": "ixuz8dI49I_x",
        "colab_type": "text"
      },
      "source": [
        "**Expected Output**:<pre>S1= [8 9 3 8 8 0 5 3 9 9] \n",
        "<br>S2= [3 6 6 0 9 8 4 7 0 0] \n",
        "<br>S = [0 3 8 9]\n"
      ]
    },
    {
      "cell_type": "markdown",
      "metadata": {
        "id": "ATsd3h6S9I_x",
        "colab_type": "text"
      },
      "source": [
        "---\n",
        "### 26 \n",
        "**Create random uniform vector of `size 12` then replace the maximum value by `1`, and replace the minimum value by `0`**<pre>( 3 lines ★★☆) "
      ]
    },
    {
      "cell_type": "code",
      "metadata": {
        "id": "7yr4_FkU9I_y",
        "colab_type": "code",
        "colab": {
          "base_uri": "https://localhost:8080/",
          "height": 68
        },
        "outputId": "8a072793-9cf8-4d24-ea43-b09c9696a033"
      },
      "source": [
        "np.random.seed(15)\n",
        "T = np.random.rand(12).round(decimals=2)\n",
        "print('before=',T,'\\n')\n",
        "\n",
        "idx = np.where(T == T.max())\n",
        "T[idx] = 1\n",
        "print('after =',T)"
      ],
      "execution_count": null,
      "outputs": [
        {
          "output_type": "stream",
          "text": [
            "before= [0.85 0.18 0.05 0.36 0.28 0.53 0.31 0.3  0.11 0.25 0.92 0.26] \n",
            "\n",
            "after = [0.85 0.18 0.05 0.36 0.28 0.53 0.31 0.3  0.11 0.25 1.   0.26]\n"
          ],
          "name": "stdout"
        }
      ]
    },
    {
      "cell_type": "markdown",
      "metadata": {
        "id": "Sqqm-qBt9I_0",
        "colab_type": "text"
      },
      "source": [
        "**Expected Output**:<pre>before= [0.85 0.18 0.05 0.36 0.28 0.53 0.31 0.3  0.11 0.25 0.92 0.26] \n",
        "<br>after = [0.85 0.18 0.   0.36 0.28 0.53 0.31 0.3  0.11 0.25 1.   0.26]"
      ]
    },
    {
      "cell_type": "markdown",
      "metadata": {
        "id": "IMmIUsbk9I_1",
        "colab_type": "text"
      },
      "source": [
        "---\n",
        "### 27. \n",
        "**Get the `MEAN` of matrix `Q`, also `mean value across the row and column`**<pre> (2 line ★★☆)</pre>\n",
        "hint: use `axis ` and `keepdims`"
      ]
    },
    {
      "cell_type": "code",
      "metadata": {
        "id": "5otf7w3N9I_2",
        "colab_type": "code",
        "colab": {
          "base_uri": "https://localhost:8080/",
          "height": 255
        },
        "outputId": "b8d8279f-6759-4c16-f482-bfcc2d5aed86"
      },
      "source": [
        "print('Q')\n",
        "print(Q,'\\n')\n",
        "U1 = np.mean(Q)\n",
        "U2 = np.mean(Q, axis=1)\n",
        "U3 = np.mean(Q, axis=0)\n",
        "\n",
        "print('Matrix Mean')\n",
        "print(U1,'\\n')\n",
        "\n",
        "print('Row Mean')\n",
        "print(U2,'\\n')\n",
        "\n",
        "print('Column Mean')\n",
        "print(U3)"
      ],
      "execution_count": null,
      "outputs": [
        {
          "output_type": "stream",
          "text": [
            "Q\n",
            "[[ 0.99  0.09]\n",
            " [ 5.79  2.21]\n",
            " [10.59  4.33]\n",
            " [15.39  6.45]] \n",
            "\n",
            "Matrix Mean\n",
            "5.7299999999999995 \n",
            "\n",
            "Row Mean\n",
            "[ 0.54  4.    7.46 10.92] \n",
            "\n",
            "Column Mean\n",
            "[8.19 3.27]\n"
          ],
          "name": "stdout"
        }
      ]
    },
    {
      "cell_type": "markdown",
      "metadata": {
        "id": "9WTBwqDV9I_3",
        "colab_type": "text"
      },
      "source": [
        "**Expected Output**:<pre>Q\n",
        "[[ 0.99  0.09]\n",
        " [ 5.81  2.22]\n",
        " [10.62  4.34]\n",
        " [15.44  6.47]] \n",
        "<br>Matrix Mean\n",
        "5.748021117169012 \n",
        "<br>Row Mean\n",
        "[[ 0.54]\n",
        " [ 4.01]\n",
        " [ 7.48]\n",
        " [10.95]] \n",
        "<br>Column Mean\n",
        "[[8.22 3.28]]"
      ]
    },
    {
      "cell_type": "markdown",
      "metadata": {
        "id": "iT7o1wmZ9I_4",
        "colab_type": "text"
      },
      "source": [
        "---\n",
        "### 28. \n",
        "**Swap 1st and 3rd row of given $5\\ \\times\\ 5$ matrix**<pre>(1 line ★★☆) "
      ]
    },
    {
      "cell_type": "code",
      "metadata": {
        "id": "480sOO_K9I_6",
        "colab_type": "code",
        "colab": {
          "base_uri": "https://localhost:8080/",
          "height": 238
        },
        "outputId": "fbcd9b39-36ca-4967-a5e5-75446120db81"
      },
      "source": [
        "np.random.seed(21)\n",
        "V = np.random.randint(1,10,(5,5))\n",
        "print('before')\n",
        "print(V,'\\n')\n",
        "\n",
        "V[[0, 2]] = V[[2, 0]]\n",
        "print('after')\n",
        "print(V)"
      ],
      "execution_count": null,
      "outputs": [
        {
          "output_type": "stream",
          "text": [
            "before\n",
            "[[9 5 1 1 9]\n",
            " [4 3 2 9 7]\n",
            " [1 5 7 5 5]\n",
            " [8 9 6 7 6]\n",
            " [3 7 3 9 3]] \n",
            "\n",
            "after\n",
            "[[1 5 7 5 5]\n",
            " [4 3 2 9 7]\n",
            " [9 5 1 1 9]\n",
            " [8 9 6 7 6]\n",
            " [3 7 3 9 3]]\n"
          ],
          "name": "stdout"
        }
      ]
    },
    {
      "cell_type": "markdown",
      "metadata": {
        "id": "VVouxJDU9I_8",
        "colab_type": "text"
      },
      "source": [
        "**Expected Output**:<pre>before\n",
        "[[9 5 1 1 9]\n",
        " [4 3 2 9 7]\n",
        " [1 5 7 5 5]\n",
        " [8 9 6 7 6]\n",
        " [3 7 3 9 3]] \n",
        "<br>after\n",
        "[[1 5 7 5 5]\n",
        " [4 3 2 9 7]\n",
        " [9 5 1 1 9]\n",
        " [8 9 6 7 6]\n",
        " [3 7 3 9 3]]"
      ]
    },
    {
      "cell_type": "markdown",
      "metadata": {
        "colab_type": "text",
        "id": "qI04SSGkqmpy"
      },
      "source": [
        "---\n",
        "### 29. \n",
        "**Reshape a given $4\\ \\times\\ 6$ matrix into a $2\\ \\times\\ 12$ matrix**<pre>(1 line ★☆☆) "
      ]
    },
    {
      "cell_type": "code",
      "metadata": {
        "id": "dnr_WL0lpvXJ",
        "colab_type": "code",
        "colab": {
          "base_uri": "https://localhost:8080/",
          "height": 221
        },
        "outputId": "d40a61d3-f8de-464a-f3c1-af03fc0e2ff4"
      },
      "source": [
        "W = np.random.randint(1,10,(4,6))\n",
        "print('before')\n",
        "print(W)\n",
        "print('shape: ', W.shape,'\\n')\n",
        "\n",
        "W = W.reshape(2, 12)\n",
        "print('after')\n",
        "print(W)\n",
        "print('shape: ', W.shape,'\\n')\n"
      ],
      "execution_count": null,
      "outputs": [
        {
          "output_type": "stream",
          "text": [
            "before\n",
            "[[3 8 2 9 3 8]\n",
            " [9 1 8 6 3 8]\n",
            " [6 1 5 3 3 1]\n",
            " [2 1 4 2 4 2]]\n",
            "shape:  (4, 6) \n",
            "\n",
            "after\n",
            "[[3 8 2 9 3 8 9 1 8 6 3 8]\n",
            " [6 1 5 3 3 1 2 1 4 2 4 2]]\n",
            "shape:  (2, 12) \n",
            "\n"
          ],
          "name": "stdout"
        }
      ]
    },
    {
      "cell_type": "markdown",
      "metadata": {
        "colab_type": "text",
        "id": "u51M9NK1q05x"
      },
      "source": [
        "**Expected Output**:<pre>\n",
        "before\n",
        "[[2 1 9 4 5 1]\n",
        " [3 1 9 2 2 5]\n",
        " [7 9 6 1 4 6]\n",
        " [8 1 9 6 4 8]]\n",
        "shape:  (4, 6) \n",
        "<br>after\n",
        "[[2 1 9 4 5 1 3 1 9 2 2 5]\n",
        " [7 9 6 1 4 6 8 1 9 6 4 8]]\n",
        "shape:  (2, 12) "
      ]
    },
    {
      "cell_type": "markdown",
      "metadata": {
        "colab_type": "text",
        "id": "xWOlDpCrq7Cp"
      },
      "source": [
        "---\n",
        "### 30. \n",
        "**Reshape previous matrix into a $2\\ \\times\\ 3\\times\\ 4$ matrix** <br>\n",
        "(3 dimensional)<pre>(1 line ★☆☆) "
      ]
    },
    {
      "cell_type": "code",
      "metadata": {
        "id": "VWldwNf2qS4o",
        "colab_type": "code",
        "colab": {
          "base_uri": "https://localhost:8080/",
          "height": 187
        },
        "outputId": "ad49bb08-c0b9-4ab7-b04b-fe01b68f5a8d"
      },
      "source": [
        "W = np.reshape(W, (2,3,4))\n",
        "print('after')\n",
        "print(W)\n",
        "print('shape: ', W.shape,'\\n')\n"
      ],
      "execution_count": null,
      "outputs": [
        {
          "output_type": "stream",
          "text": [
            "after\n",
            "[[[3 8 2 9]\n",
            "  [3 8 9 1]\n",
            "  [8 6 3 8]]\n",
            "\n",
            " [[6 1 5 3]\n",
            "  [3 1 2 1]\n",
            "  [4 2 4 2]]]\n",
            "shape:  (2, 3, 4) \n",
            "\n"
          ],
          "name": "stdout"
        }
      ]
    },
    {
      "cell_type": "markdown",
      "metadata": {
        "colab_type": "text",
        "id": "cmTsioH_rJ3a"
      },
      "source": [
        "**Expected Output**:<pre>after\n",
        "[[[2 1 9 4]\n",
        "  [5 1 3 1]\n",
        "  [9 2 2 5]]\n",
        "<br> [[7 9 6 1]\n",
        "  [4 6 8 1]\n",
        "  [9 6 4 8]]]\n",
        "shape:  (2, 3, 4) "
      ]
    },
    {
      "cell_type": "markdown",
      "metadata": {
        "colab_type": "text",
        "id": "xyJC0Fqhrnyx"
      },
      "source": [
        "---\n",
        "### 31. \n",
        "**Reshape previous matrix into a 1 dimensional array** <br>\n",
        "(flatten)<pre>(1 line ★☆☆) "
      ]
    },
    {
      "cell_type": "code",
      "metadata": {
        "colab_type": "code",
        "id": "teHZxGkTrny0",
        "colab": {
          "base_uri": "https://localhost:8080/",
          "height": 85
        },
        "outputId": "d57ac686-0449-4c58-9854-bb58eeb6cfb1"
      },
      "source": [
        "W = W.ravel()\n",
        "print('after')\n",
        "print(W)\n",
        "print('shape: ', W.shape,'\\n')\n"
      ],
      "execution_count": null,
      "outputs": [
        {
          "output_type": "stream",
          "text": [
            "after\n",
            "[3 8 2 9 3 8 9 1 8 6 3 8 6 1 5 3 3 1 2 1 4 2 4 2]\n",
            "shape:  (24,) \n",
            "\n"
          ],
          "name": "stdout"
        }
      ]
    },
    {
      "cell_type": "markdown",
      "metadata": {
        "colab_type": "text",
        "id": "kPXqzdPHrny9"
      },
      "source": [
        "**Expected Output**:<pre>after\n",
        "[2 1 9 4 5 1 3 1 9 2 2 5 7 9 6 1 4 6 8 1 9 6 4 8]\n",
        "shape:  (24,)"
      ]
    },
    {
      "cell_type": "markdown",
      "metadata": {
        "id": "1T66nLyX9I_9",
        "colab_type": "text"
      },
      "source": [
        "---\n",
        "### i. \n",
        "**Save all matrices `A to V` into a `.npz` file with your ID as the filename**"
      ]
    },
    {
      "cell_type": "code",
      "metadata": {
        "id": "jjgvN3zW9I_-",
        "colab_type": "code",
        "colab": {}
      },
      "source": [
        "np.savez(ID+'.npz', A=A, B=B, C=C, D=D, E=E, F=F, G=G, H=H, I=I, J=J, K=K, L=L, M=M, N=N, O=O, P=P, Q=Q, R=R, S=S, T=T, U1=U1, U2=U2, U3=U3, V=V)"
      ],
      "execution_count": null,
      "outputs": []
    },
    {
      "cell_type": "code",
      "metadata": {
        "id": "7THeoCcr9JAB",
        "colab_type": "code",
        "colab": {
          "base_uri": "https://localhost:8080/",
          "height": 68
        },
        "outputId": "c516827a-66dd-4e80-f203-1bcaf1bcf76e"
      },
      "source": [
        "print(A.shape)\n",
        "print(Q.shape)\n",
        "print(V.shape)"
      ],
      "execution_count": null,
      "outputs": [
        {
          "output_type": "stream",
          "text": [
            "(4, 5)\n",
            "(4, 2)\n",
            "(5, 5)\n"
          ],
          "name": "stdout"
        }
      ]
    },
    {
      "cell_type": "markdown",
      "metadata": {
        "id": "hDJDPhI19JAC",
        "colab_type": "text"
      },
      "source": [
        "---\n",
        "### ii.\n",
        "**Clear all variables using `%reset`, then load your `.npz` file into `data` dictionary and verify the loaded matrices**"
      ]
    },
    {
      "cell_type": "markdown",
      "metadata": {
        "id": "pXTNl1KT9JAE",
        "colab_type": "text"
      },
      "source": [
        "run this and press y to reset all variables"
      ]
    },
    {
      "cell_type": "code",
      "metadata": {
        "id": "RSGmFuT69JAF",
        "colab_type": "code",
        "colab": {
          "base_uri": "https://localhost:8080/",
          "height": 34
        },
        "outputId": "eda0ffe5-d6fb-43b8-f24c-53120f8e39d6"
      },
      "source": [
        "%reset"
      ],
      "execution_count": null,
      "outputs": [
        {
          "output_type": "stream",
          "text": [
            "Once deleted, variables cannot be recovered. Proceed (y/[n])? y\n"
          ],
          "name": "stdout"
        }
      ]
    },
    {
      "cell_type": "markdown",
      "metadata": {
        "id": "7SaoPdSr9JAG",
        "colab_type": "text"
      },
      "source": [
        "check loaded variables"
      ]
    },
    {
      "cell_type": "code",
      "metadata": {
        "id": "apb9eR3J9JAG",
        "colab_type": "code",
        "colab": {
          "base_uri": "https://localhost:8080/",
          "height": 68
        },
        "outputId": "6bc020e5-8854-4040-9e72-9509bc10333d"
      },
      "source": [
        "import numpy as np\n",
        "ID = '1301170073'\n",
        "data = np.load(ID+'.npz')\n",
        "print(data['A'].shape)\n",
        "print(data['Q'].shape)\n",
        "print(data['V'].shape)"
      ],
      "execution_count": null,
      "outputs": [
        {
          "output_type": "stream",
          "text": [
            "(4, 5)\n",
            "(4, 2)\n",
            "(5, 5)\n"
          ],
          "name": "stdout"
        }
      ]
    },
    {
      "cell_type": "markdown",
      "metadata": {
        "id": "vCNXjpjc9JAI",
        "colab_type": "text"
      },
      "source": [
        "---\n",
        "\n",
        "# Congratulation, You've Completed Pre-Exercise\n",
        "<p>Copyright &copy;  <a href=https://www.linkedin.com/in/andityaarifianto/>2020 - ADF</a> </p>"
      ]
    },
    {
      "cell_type": "markdown",
      "metadata": {
        "id": "K4JiUsZ0QUHc",
        "colab_type": "text"
      },
      "source": [
        "![footer](https://i.ibb.co/yX0jfMS/footer2020.png)"
      ]
    }
  ]
}